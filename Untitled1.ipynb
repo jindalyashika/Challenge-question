{
  "nbformat": 4,
  "nbformat_minor": 0,
  "metadata": {
    "colab": {
      "provenance": [],
      "authorship_tag": "ABX9TyOmYBfNIc/qDxaYizgfw6s3",
      "include_colab_link": true
    },
    "kernelspec": {
      "name": "python3",
      "display_name": "Python 3"
    },
    "language_info": {
      "name": "python"
    }
  },
  "cells": [
    {
      "cell_type": "markdown",
      "metadata": {
        "id": "view-in-github",
        "colab_type": "text"
      },
      "source": [
        "<a href=\"https://colab.research.google.com/github/jindalyashika/Challenge-question/blob/main/Untitled1.ipynb\" target=\"_parent\"><img src=\"https://colab.research.google.com/assets/colab-badge.svg\" alt=\"Open In Colab\"/></a>"
      ]
    },
    {
      "cell_type": "code",
      "execution_count": 5,
      "metadata": {
        "colab": {
          "base_uri": "https://localhost:8080/"
        },
        "id": "Q31ZlnHIswXK",
        "outputId": "90967955-e254-46bc-c54c-9518233d6a2e"
      },
      "outputs": [
        {
          "output_type": "stream",
          "name": "stdout",
          "text": [
            "['Ram', '1', 'Shyam', '2', 'Aman', '3']\n",
            "['1', '2', '3', 'Aman', 'Ram', 'Shyam']\n",
            "['Ram', 1, 'Shyam', 2, 'Aman', 3]\n"
          ]
        }
      ],
      "source": [
        "# 1. Write a python program to sort the list of heterogeneous data.\n",
        "#e.g.\n",
        "#L = [\"Ram\", 1, \"Shyam\", 2, \"Aman\", 3]\n",
        "#print(L)\n",
        "#L.sort()\n",
        "#print(L)\n",
        "# Above code gives error. Correct it.\n",
        "\n",
        "L = [\"Ram\", 1, \"Shyam\", 2, \"Aman\", 3]\n",
        "L = [str(i) for i in L]\n",
        "L1= []\n",
        "for i in L:\n",
        "  try:\n",
        "   L1.append(int(i))\n",
        "  except:\n",
        "        L1.append(i)\n",
        "print(L)\n",
        "L.sort()\n",
        "print(L)\n",
        "L.sort()\n",
        "print(L1)\n",
        "\n"
      ]
    },
    {
      "cell_type": "code",
      "source": [
        "# CHALLENGE QUESTION 2\n",
        "import time\n",
        "t1= time .time()\n",
        "for i in range(100000):\n",
        "  for j in range(100000):\n",
        "    x=900\n",
        "\n",
        "t2= time .time()\n",
        "print(\"total time\",t2-t1)\n",
        ""
      ],
      "metadata": {
        "id": "eEHvo0p9vv7S"
      },
      "execution_count": null,
      "outputs": []
    }
  ]
}